{
 "cells": [
  {
   "cell_type": "markdown",
   "metadata": {
    "collapsed": true
   },
   "source": [
    "<p style=\"font-size: 46pt; margin-bottom: 1em; margin-top: 1em;\">Many-body tensor representation</p>\n",
    "<p style=\"font-size: 18pt; line-height: 120%; margin-bottom: 1em;\">Experiments from Haoyan Huo and Matthias Rupp: Unified Representation for Machine Learning of Molecules and Crystals, 2017.</p>"
   ]
  },
  {
   "cell_type": "markdown",
   "metadata": {
    "heading_collapsed": true
   },
   "source": [
    "# Initialization"
   ]
  },
  {
   "cell_type": "markdown",
   "metadata": {
    "collapsed": true,
    "hidden": true
   },
   "source": [
    "Loading of Python libraries and <tt>qmmlpack</tt>."
   ]
  },
  {
   "cell_type": "code",
   "execution_count": 14,
   "metadata": {
    "hidden": true
   },
   "outputs": [],
   "source": [
    "# import libraries\n",
    "import sys, os\n",
    "import re, zipfile, json, math, gc\n",
    "import ast, itertools, hashlib, gzip, pickle\n",
    "import numpy as np\n",
    "import scipy as sp\n",
    "import pandas as pd\n",
    "import scipy.stats\n",
    "import matplotlib\n",
    "import matplotlib.pyplot as plt\n",
    "import mpl_toolkits.axes_grid1.inset_locator\n",
    "import IPython\n",
    "from collections import defaultdict\n",
    "\n",
    "plt.rcParams['font.family'] = 'sans-serif'\n",
    "plt.rcParams['font.sans-serif'] = ['Helvetica']\n",
    "\n",
    "np.set_printoptions(linewidth=90)\n",
    "\n",
    "# load repository version of qmmlpack, not system-wide version\n",
    "# adapt path according to local installation, or comment out if qmmlpack is available on a system-wide path\n",
    "sys.path.insert(0, os.path.join(\n",
    "    os.path.realpath('.'),\n",
    "    '../qmmlpack/python'))\n",
    "import qmmlpack as qmml"
   ]
  },
  {
   "cell_type": "markdown",
   "metadata": {
    "hidden": true
   },
   "source": [
    "Code used throughout notebook."
   ]
  },
  {
   "cell_type": "code",
   "execution_count": 15,
   "metadata": {
    "hidden": true
   },
   "outputs": [],
   "source": [
    "def cached(max_entries=sys.maxsize):\n",
    "    \"\"\"Memoization decorator.\n",
    "    \n",
    "    Allows caching of function values for representation and kernel functions.\n",
    "    \n",
    "    A maximum number of results to be stored can be specified via max_entries.\n",
    "    \n",
    "    functools.lru_cache does not accept mutable objects such as NumPy's ndarray.\n",
    "    \n",
    "    Caching the functions directly (as opposed to automatic caching within code for experiments) \n",
    "    allows caching over multiple experiments.\"\"\"\n",
    "    return lambda f: _cached(f, max_entries=max_entries)\n",
    "\n",
    "class _cached:\n",
    "    \"\"\"Implementation of memoization decorator.\"\"\"\n",
    "    \n",
    "    def __init__(self, f, max_entries=sys.maxsize):\n",
    "        \"\"\"Wraps f in a caching wrapper.\"\"\"\n",
    "        self.f = f  # cached function\n",
    "        self.max_entries = max_entries  # maximum number of results to store\n",
    "        self.cache = {}  # stores pairs of hash keys and function results \n",
    "        self.lruc = 0  # least recently used counter\n",
    "        self.hashf = None  # hashing function, initialized by __call__\n",
    "        self._intbuf = np.empty((1,), dtype=int)  # buffer for temporary storage of hash() values\n",
    "        self.hits, self.misses = 0, 0  # number of times function values were retrieved from cache/had to be computed \n",
    "        self.total_hits, self.total_misses = 0, 0  # statistics over lifetime of cached object\n",
    "        \n",
    "    def _hash(self, arg):\n",
    "        \"\"\"Hashes an argument.\"\"\"\n",
    "        try:\n",
    "            self.hashf.update(arg)\n",
    "        except:\n",
    "            self._intbuf[0] = hash(arg)\n",
    "            self.hashf.update(self._intbuf)\n",
    "        \n",
    "    def __call__(self, *args, **kwargs):\n",
    "        \"\"\"Calls to cached function.\"\"\"\n",
    "        \n",
    "        # compute hash key of arguments\n",
    "        self.hashf = hashlib.md5()  # non-cryptographic fast hash function\n",
    "        for i in args: self._hash(i)\n",
    "        for i in kwargs: self._hash(kwargs[i])\n",
    "        key = self.hashf.digest()\n",
    "        \n",
    "        # return stored or computed value\n",
    "        if key in self.cache:\n",
    "            self.total_hits, self.hits = self.total_hits + 1, self.hits + 1\n",
    "            item = self.cache[key]\n",
    "            item[0] = self.lruc; self.lruc += 1\n",
    "            return item[1]\n",
    "        else:\n",
    "            self.total_misses, self.misses = self.total_misses + 1, self.misses + 1\n",
    "            value = self.f(*args, **kwargs)\n",
    "            self.cache[key] = [self.lruc, value]; self.lruc += 1\n",
    "\n",
    "            # remove another entry if new entry exceeded the maximum\n",
    "            if len(self.cache) > self.max_entries:\n",
    "                c, k = self.lruc, key\n",
    "                for k_,v_ in self.cache.items():\n",
    "                    if v_[0] < c: c, k = v_[0], k_\n",
    "                del self.cache[k]\n",
    "            \n",
    "            return value\n",
    "        \n",
    "    def clear_cache(self):\n",
    "        \"\"\"Empties cache, releasing memory.\"\"\"\n",
    "        self.cache.clear()\n",
    "        self.hits, self.misses = 0, 0"
   ]
  },
  {
   "cell_type": "code",
   "execution_count": 16,
   "metadata": {
    "hidden": true
   },
   "outputs": [],
   "source": [
    "from qmmlpack.lib import is_sequence, QMMLException\n",
    "\n",
    "class AdaptiveGridSearch:\n",
    "    \"\"\"Optimization of several variables via local gradient descent on a logarithmic grid.\n",
    "\n",
    "    Interface:\n",
    "      __init__ - sets up adaptive grid search\n",
    "      step() - takes one optimization step\n",
    "      stats() - returns statistics on optimization so far\"\"\"\n",
    "\n",
    "    def _parse_variable(self, v):\n",
    "        \"\"\"Parses one variable.\n",
    "\n",
    "        0  initial value\n",
    "        1  priority\n",
    "        2  step size\n",
    "        3  min\n",
    "        4  max\n",
    "        5  direction\n",
    "        6  base\"\"\"\n",
    "\n",
    "        defaults = (0., 1, 1., -np.inf, +np.inf, 0, 2.)\n",
    "        keywords = ((0,'value'), (1,'priority'), (2,'stepsize'), (3,'min'), (3,'minimum'), (4,'max'), (4,'maximum'), (5,'direction'), (6,'base'))\n",
    "\n",
    "        # dictionary specification\n",
    "        if isinstance(v, dict):\n",
    "            vv = list(defaults)\n",
    "            for (i,kw) in keywords:\n",
    "                if kw in v: vv[i] = v[kw]\n",
    "            v = vv\n",
    "\n",
    "        if not is_sequence(v): raise QMMLException(\"Invalid variable specification\")\n",
    "\n",
    "        # initial value\n",
    "        iv = defaults[0] if len(v) < 1 else float(v[0])\n",
    "\n",
    "        # priority\n",
    "        p = defaults[1] if len(v) < 2 else int(v[1])\n",
    "        if len(v) >= 2 and p != v[1]: raise QMMLException(\"Non-integer priority specified\")\n",
    "        if p <= 0: raise QMMLException(\"Invalid priority specified\")\n",
    "\n",
    "        # step size\n",
    "        s = defaults[2] if len(v) < 3 else float(v[2])\n",
    "        if s <= 0: raise QMMLException(\"Invalid step size specified\")\n",
    "\n",
    "        # minimum\n",
    "        rmin = defaults[3] if len(v) < 4 else v[3]\n",
    "\n",
    "        # maximum\n",
    "        rmax = default[4] if len(v) < 5 else v[4]\n",
    "\n",
    "        # direction\n",
    "        d = defaults[5] if len(v) < 6 else int(v[5])\n",
    "        if len(v) >= 6 and d != v[5]: raise QMMLException(\"Non-integer direction specified\")\n",
    "        if d not in (-1, 0, +1): raise QMMLException(\"Invalid direction specified\")\n",
    "\n",
    "        # base\n",
    "        b = defaults[6] if len(v) < 7 else float(v[6])\n",
    "        if b <= 0: raise QMMLException(\"Invalid base specified\")\n",
    "\n",
    "        # additional tests\n",
    "        if rmin >= rmax: raise QMMLException(\"Invalid range specified\")\n",
    "        if not (rmin <= iv <= rmax): raise QMMLException(\"Initial value not in range\")\n",
    "\n",
    "        return [iv, p, s, rmin, rmax, d, b]\n",
    "\n",
    "    def __init__(self, f, variables, resolution=None):\n",
    "        \"\"\"AdaptiveGridSearch(f, {v1,v2,...}, resolution=None) finds local minimum of f(v1,v2,...) via local gradient descent on a logarithmic grid.\n",
    "\n",
    "        Parameters:\n",
    "          f - function to be minimized\n",
    "          v1,v2,... - variables, see below\n",
    "          resolution - if specified as a number a, f(...) will be rounded to multiples of a\n",
    "\n",
    "        A variable is a tuple {val, pri, stp, min, max, dir, b}, where\n",
    "          val = initial value; real number; exponent to base b\n",
    "          pri = priority; positive integer; higher priorities are optimized before lower ones; several variables may have the same priority\n",
    "          stp = step size; positive real number; refers to exponent\n",
    "          min = lowest allowed value for variable, val in [min,max]\n",
    "          max = highest allowed value for variable, val in [min,max]\n",
    "          dir = direction; either -1 (small values preferred), 0 (indifferent), +1 (large values preferred)\n",
    "          b   = base; positive real number\n",
    "          Later entries can be omitted. Default values are (0., 1, 1., (-np.inf,+np.inf), 0, 2., (True,True)).\n",
    "          The logarithmized grid is the intersection between ...,i-2s,i-s,i,i+s,i+2s,... and (min,max).\n",
    "          Alternatively, a dictionary with possible keys 'value', 'priority', 'stepsize', 'min', 'max', 'direction', 'base' can be specified.\n",
    "\n",
    "        Once the grid search is initialized, optimization steps can be taken via step().\n",
    "        Data member stats yields statistics on the optimization so far.\n",
    "\n",
    "        If optimizing an expensive function, such as hyperparameters of a machine learning model, it is important that f uses cached values.\n",
    "        For example, if optimizing performance of a kernel learning model, kernel matrices for different values of kernel hyperparameters should be cached where possible.\"\"\"\n",
    "\n",
    "        # the descent can not cross itself, but a visited list helps avoid retrying unsuccessful grid points, reducing number of steps.\n",
    "\n",
    "        # initialize state\n",
    "        self._vars = np.asarray([self._parse_variable(v) for v in variables])\n",
    "        self._f = f\n",
    "        self._resolution = None if resolution is None else float(resolution)\n",
    "\n",
    "        self.num_vars = len(self._vars)\n",
    "        self.num_steps = 0\n",
    "        self.num_evals = 0\n",
    "        self.update = False\n",
    "        self.done = False\n",
    "        self.conv = [False] * len(self._vars)  # indicates which variables to optimize; True entries are currently converged\n",
    "        self.dirs = [np.random.choice([-1,1]) if v[5] == 0 else int(v[5]) for v in self._vars]\n",
    "        self.cur_ind = 0  # index of variable currently being iterated\n",
    "        self.cur_v = np.copy(self._vars[:, 0])  # current values of variables\n",
    "        self.trial_v = np.empty_like(self.cur_v)  # last tried values of variables\n",
    "        self.trial_f = None  # f of last tried values of variables\n",
    "        self.best_v = np.copy(self.cur_v)  # best solution so far\n",
    "        self.best_f = np.inf;  # f of best solution so far, f(best_v)\n",
    "        self.visited = set()  # visited grid points so far\n",
    "\n",
    "        # initialize optimization\n",
    "        self._trial(0.)\n",
    "        self.update = False  # force determination of cur_ind\n",
    "\n",
    "    def _trial(self, step):\n",
    "        ind = self.cur_ind  # shorthand\n",
    "        self.update = False\n",
    "\n",
    "        # take step\n",
    "        self.trial_v[:] = self.cur_v\n",
    "        self.trial_v[ind] += step\n",
    "\n",
    "        # check for range (clamping incurs some unnecessary calls of f, but allows variable to change direction)\n",
    "        self.trial_v[ind] = max(self._vars[ind,3], min(self.trial_v[ind], self._vars[ind, 4]))  # clamp to [min, max]\n",
    "\n",
    "        # check if visited already\n",
    "        if tuple(self.trial_v) in self.visited: return\n",
    "\n",
    "        # call f\n",
    "        trialpowers = np.power(self._vars[:, 6], self.trial_v)\n",
    "        self.trial_f = self._f(*trialpowers)\n",
    "        self.num_evals += 1\n",
    "        self.visited.add(tuple(self.trial_v))\n",
    "        if self._resolution is not None:\n",
    "            # rounds to precision of resolution, then to number of significant digits to avoid trailing noise in last digits\n",
    "            # https://stackoverflow.com/a/28427814/3248771\n",
    "            self.trial_f = round( round(self.trial_f / self._resolution) * self._resolution, -int(math.floor(math.log10(self._resolution))))\n",
    "\n",
    "        # update if improvement\n",
    "        if self.trial_f < self.best_f:\n",
    "            self.cur_v[:] = self.trial_v\n",
    "            self.best_v[:] = self.trial_v\n",
    "            self.best_f = self.trial_f\n",
    "            self.update = True\n",
    "            self.conv = [False] * self.num_vars\n",
    "\n",
    "    def step(self):\n",
    "        \"\"\"Takes one optimization step.\n",
    "\n",
    "        The step taken can involve multiple evaluations of f.\"\"\"\n",
    "\n",
    "        if self.done: return\n",
    "\n",
    "        # determine variable to optimize next\n",
    "        if not self.update:\n",
    "            self.cur_ind = [i for (i,d) in enumerate(self.conv) if not d]  # variables currently being optimized\n",
    "            self.cur_ind = [i for i in self.cur_ind if self._vars[i,1] == max(self._vars[self.cur_ind, 1])]  # variables with highest priority\n",
    "            self.cur_ind = np.random.choice(self.cur_ind)\n",
    "\n",
    "        # take one step into direction\n",
    "        if self._vars[self.cur_ind, 5] in (-1,+1):\n",
    "            self.dirs[self.cur_ind] = int(self._vars[self.cur_ind, 5])  # if not, keep last direction\n",
    "        self._trial(self.dirs[self.cur_ind] * self._vars[self.cur_ind, 2])\n",
    "\n",
    "        # change direction if unsuccessful\n",
    "        if not self.update:\n",
    "            self.dirs[self.cur_ind] *= -1\n",
    "            self._trial(self.dirs[self.cur_ind] * self._vars[self.cur_ind, 2])\n",
    "\n",
    "        # if no update, variable is converged\n",
    "        if not self.update:\n",
    "            self.conv[self.cur_ind] = True\n",
    "\n",
    "        # update statistics\n",
    "        self.num_steps += 1\n",
    "\n",
    "        # test termination condition\n",
    "        if all(self.conv): self.done = True\n",
    "\n",
    "    def __bool__(self):\n",
    "        \"\"\"Indicates whether optimization is ongoing or done.\"\"\"\n",
    "        return not self.done\n",
    "\n",
    "    def __str__(self, verbose=False):\n",
    "        \"\"\"Returns formatted statistics.\"\"\"\n",
    "        s = self.stats()\n",
    "        if verbose == 'compact':\n",
    "            descr = \\\n",
    "                \"#{}({}): {} -> {}  ({})\".format(s['num_steps'], s['num_evals'], tuple(s['best_vals']), \\\n",
    "                s['best_f'], ''.join([\"T \" if c else \"F \" for c in s['converged']]) )\n",
    "        else:\n",
    "            descr = \\\n",
    "                \"{}\\n\\n\".format(self.__class__.__name__) + \\\n",
    "                \"#vars = {}, #steps = {}, #evals = {}, done = {}\\n\".format(s['num_vars'], s['num_steps'], s['num_evals'], s['done']) + \\\n",
    "                \"best solution: f{} = {}\\n\".format(tuple(s['best_vals']), s['best_f']) + \\\n",
    "                \"var = {}, update = {}\\n\".format(s['cur_var'], s['update']) + \\\n",
    "                \"converged vars: {}, \".format(' '.join([\"T \" if c else \"F \" for c in s['converged']])) + \\\n",
    "                \"directions: {}\\n\".format(' '.join(['{:+d}'.format(d) for d in s['directions']])) + \\\n",
    "                ( \"\" if not verbose else \"\\nvisited:\\n{}\".format(''.join(sorted(['  {}\\n'.format(v) for v in s['visited']]))) )\n",
    "        return descr\n",
    "\n",
    "    def stats(self):\n",
    "        \"\"\"Returns dictionary with statistics on the course of the optimization so far.\n",
    "\n",
    "          variables - variables settings\n",
    "          resolution - resolution\n",
    "          num_vars - number of variables (arity of f)\n",
    "          num_steps - number of times step() was called\n",
    "          num_evals - number of times f was evaluated\n",
    "          update - whether best solution was updated last step\n",
    "          done - True if optimization is finished\n",
    "          converged - which variables are currently in local minima\n",
    "          directions - current directions of variables\n",
    "          cur_var - index of currently optimized variable\n",
    "          cur_vals - current values of variables\n",
    "          trial_vals - last tried values of variables\n",
    "          trial_f - function value for trial_vals\n",
    "          best_vals - best found variable values so far\n",
    "          best_f - function value for best_vals\n",
    "          visited - set of variable values visited so far\n",
    "        \"\"\"\n",
    "\n",
    "        return {\n",
    "            'variables' : self._vars,\n",
    "            'resolution': self._resolution,\n",
    "            'num_vars'  : self.num_vars,\n",
    "            'num_steps' : self.num_steps,\n",
    "            'num_evals' : self.num_evals,\n",
    "            'update'    : self.update,\n",
    "            'done'      : self.done,\n",
    "            'converged' : self.conv,\n",
    "            'directions': self.dirs,\n",
    "            'cur_var'   : self.cur_ind,\n",
    "            'cur_vals'  : self.cur_v,\n",
    "            'trial_vals': self.trial_v,\n",
    "            'trial_f'   : self.trial_f,\n",
    "            'best_vals' : self.best_v,\n",
    "            'best_f'    : self.best_f,\n",
    "            'visited'   : self.visited\n",
    "        }"
   ]
  },
  {
   "cell_type": "code",
   "execution_count": 17,
   "metadata": {
    "hidden": true
   },
   "outputs": [],
   "source": [
    "class EvaluateModelPerformance:\n",
    "    \"\"\"Performance of a kernel ridge regression model.\n",
    "    \n",
    "    Returns loss of kernel regression model on validation set using given hyperparameters.\n",
    "    Implemented as a stateful functor.\"\"\"\n",
    "    \n",
    "    def __init__(self, z, r, y, indtrain, indvalid, reprf, kernelf, lossf, paramf, basis=None, centering=False, maxcache=False):\n",
    "        \"\"\"Sets up model performance evaluator.\n",
    "        \n",
    "        z, r, y, basis - atomic numbers, atom coordinates, property values and basis vectors\n",
    "        indtrain, indvalid - indices into z, r, y, basis of training and validation sets\n",
    "        reprf - function f(z, r, basis, theta) returning n x d representation matrix, where \n",
    "                n is number of data points and d is dimensionality of representation; can be a list of functions\n",
    "        kernelf - kernel function\n",
    "        lossf - loss function f(true, pred, state, z) returning a single summary statistic of the performance\n",
    "        paramf - function accepting one parameter vector theta, which it splits into \n",
    "            individual parameter vectors for representation, kernel and method.\n",
    "        centering - whether to center the kernelf\n",
    "        maxcache - if True, reprf and kernelf will always be called for the whole input, \n",
    "                   maximixing cache exploitation across large series of experiments such as learning curves.\n",
    "        \n",
    "        If reprf is a list, representations are cached separately and concatenated.\n",
    "        \n",
    "        The employed representation and kernel functions should cache (memoize) their values.\n",
    "        This caching is best done outside of this class by the actual functions to maximize speed gains across\n",
    "        different instances of EvaluateModelPerformance.\"\"\"\n",
    "\n",
    "        # parameters\n",
    "        self.z, self.r, self.y, self.indtrain, self.indvalid, self.reprf, self.kernelf, self.lossf, self.paramf, \\\n",
    "            self.b, self.centering, self.maxcache = z, r, y, indtrain, indvalid, reprf, kernelf, lossf, paramf, \\\n",
    "            basis, centering, maxcache\n",
    "        if not qmml.is_sequence(self.reprf): self.reprf = (self.reprf,)  # always a sequence\n",
    "        \n",
    "    def reset(self, z=None, r=None, y=None, indtrain=None, indvalid=None, reprf=None, kernelf=None, lossf=None, \\\n",
    "              paramf=None, basis=None, centering=None, maxcache=None):\n",
    "        \"\"\"Modifies parametrization.\"\"\"\n",
    "\n",
    "        if z is not None: self.z = z\n",
    "        if r is not None: self.r = r\n",
    "        if y is not None: self.y = y\n",
    "        if indtrain is not None: self.indtrain = indtrain\n",
    "        if indvalid is not None: self.indvalid = indvalid\n",
    "        if reprf is not None: self.reprf = reprf  # sequence will be ensured by __init__ below\n",
    "        if kernelf is not None: self.kernelf = kernelf\n",
    "        if lossf is not None: self.lossf = lossf\n",
    "        if paramf is not None: self.paramf = paramf\n",
    "        if basis is not None: self.b = basis\n",
    "        if centering is not None: self.centering = centering\n",
    "        if maxcache is not None: self.maxcache = maxcache\n",
    "\n",
    "        self.__init__(self.z, self.r, self.y, self.indtrain, self.indvalid, self.reprf, self.kernelf, self.lossf, \\\n",
    "                      self.paramf, basis=self.b, centering=self.centering, maxcache=self.maxcache)\n",
    "\n",
    "    def __call__(self, *theta):\n",
    "        \"\"\"Evaluates model performance for given hyperparameters theta.\"\"\"\n",
    "\n",
    "        # parameter vectors\n",
    "        (theta_repr, theta_kernel, theta_method) = self.paramf(*theta)\n",
    "        if len(theta_repr) == 0 or not qmml.is_sequence(theta_repr[0]): theta_repr = [theta_repr]\n",
    "        theta_repr = tuple(tuple(theta) for theta in theta_repr)\n",
    "        theta_kernel, theta_method = tuple(theta_kernel), tuple(theta_method)\n",
    "        \n",
    "        # representation and kernel matrices\n",
    "        if self.maxcache:  # call reprf and kernelf for all inputs\n",
    "            # representation\n",
    "            repr_ = [rf(self.z, self.r, basis=self.b, theta=rt) for (rf,rt) in zip(self.reprf, theta_repr)]\n",
    "            repr_ = np.concatenate(repr_, axis=1)\n",
    "            # kernel matrix\n",
    "            M = self.kernelf(repr_, theta=theta_kernel)\n",
    "            # reduce to training and test sets\n",
    "            reprtrain, reprvalid = repr_[self.indtrain], repr_[self.indvalid]\n",
    "            K, L = M[np.ix_(self.indtrain, self.indtrain)], M[np.ix_(self.indtrain, self.indvalid)]\n",
    "        else:  # call reprf and kernelf only for training and validation sets\n",
    "            # representation\n",
    "            (btrain, bvalid) = (None, None) if self.b is None else (self.b[self.indtrain], self.b[self.indvalid])\n",
    "            reprtrain = [rf(self.z[self.indtrain], self.r[self.indtrain], basis=btrain, theta=rt) for (rf,rt) in zip(self.reprf, theta_repr)]\n",
    "            reprvalid = [rf(self.z[self.indvalid], self.r[self.indvalid], basis=bvalid, theta=rt) for (rf,rt) in zip(self.reprf, theta_repr)]\n",
    "            reprtrain, reprvalid = np.concatenate(reprtrain, axis=1), np.concatenate(reprvalid, axis=1)\n",
    "            # kernel matrices\n",
    "            K = self.kernelf(reprtrain, theta=theta_kernel)\n",
    "            L = self.kernelf(reprtrain, reprvalid, theta=theta_kernel)\n",
    "   \n",
    "        # model and predictions\n",
    "        krr = qmml.KernelRidgeRegression(K, self.y[self.indtrain], theta_method, centering=self.centering)\n",
    "        pred = krr(L)\n",
    "\n",
    "        # loss\n",
    "        self.loss = lambda: None  # dummy object for storing additional data computed by lossf\n",
    "        loss = self.lossf(self.y[self.indvalid], pred, state=self.loss, z=self.z[self.indvalid])\n",
    "        return loss"
   ]
  },
  {
   "cell_type": "code",
   "execution_count": 18,
   "metadata": {
    "hidden": true
   },
   "outputs": [],
   "source": [
    "def setup_train_valid(ind, ntrain, nvalid, y=None):\n",
    "    \"\"\"Sets up training and validation folds (index subsets) for model selection.\n",
    "    \n",
    "    Data indices are split into disjunct training and validation set.\n",
    "    If labels are given, training and validation sets are stratified to reduce variance.\"\"\"\n",
    "    \n",
    "    ind = np.asarray(ind, dtype=int)\n",
    "    \n",
    "    n = len(ind)\n",
    "    assert ntrain + nvalid <= n\n",
    "    assert y is None or len(y) == n\n",
    "    \n",
    "    # validation set\n",
    "    if y is None: # random sampling\n",
    "        indvalid = np.random.choice(ind, size=nvalid, replace=False)\n",
    "    else:  # stratified sampling\n",
    "        indvalid = ind[ [np.random.choice(stratum) for stratum in qmml.stratify(y, nvalid)] ]\n",
    "    \n",
    "    # training set\n",
    "    indrem = np.nonzero(np.in1d(ind, indvalid, invert=True))[0]  # remaining indices not in indvalid\n",
    "    if y is None: # random sampling\n",
    "        indtrain = np.random.choice(ind[indrem], size=ntrain, replace=False)\n",
    "    else:  # stratified sampling\n",
    "        indtrain = ind[indrem][ [np.random.choice(stratum) for stratum in qmml.stratify(y[indrem], ntrain)] ]\n",
    "    \n",
    "    # verify\n",
    "    assert indtrain.size == ntrain and indvalid.size == nvalid\n",
    "    assert np.intersect1d(indtrain, indvalid).size == 0\n",
    "    \n",
    "    return (indtrain, indvalid)"
   ]
  },
  {
   "cell_type": "code",
   "execution_count": 19,
   "metadata": {
    "hidden": true
   },
   "outputs": [],
   "source": [
    "def lossf(true, pred, state=None, z=None, return_='root_mean_squared_error'):\n",
    "    \"\"\"Augmented loss function.\n",
    "    \n",
    "    Parameters:\n",
    "      true - reference labels\n",
    "      pred - predicted labels\n",
    "      state - if passed, reference values, predictions, residuals and loss function values will be\n",
    "              stored as true, pred, residuals, loss. If z is passed, sizes and residuals_pa as well.\n",
    "      z - atomic numbers; if passed, loss per atom will be computed in addition\n",
    "      return_ - name of summary statistic to return.\"\"\"\n",
    "\n",
    "    residuals = np.asfarray(pred - true)\n",
    "    loss = qmml.loss(true, pred)\n",
    "    \n",
    "    # if available, compute loss functions normalized by number of atoms\n",
    "    if z is not None:\n",
    "        assert len(z) == len(residuals)\n",
    "        \n",
    "        sizes = np.asarray([len(m) for m in z])  # number of atoms per system\n",
    "        residuals_pa = residuals / sizes\n",
    "\n",
    "        rmsepa = math.sqrt(np.mean(residuals_pa**2)) # RMSE per atom\n",
    "        loss['root_mean_squared_error_per_atom'] = rmsepa\n",
    "        \n",
    "        maepa = np.mean(np.abs(residuals_pa))  # MAE per atom\n",
    "        loss['mean_absolute_error_per_atom'] = maepa\n",
    "        \n",
    "        maxaepa = max(np.abs(residuals_pa))  # maxAE per atom\n",
    "        loss['maximum_absolute_error_per_atom'] = maxaepa\n",
    "    \n",
    "    # if state is available, store statistics\n",
    "    if state is not None:\n",
    "        state.true, state.pred, state.residuals, state.loss = true, pred, residuals, loss\n",
    "        if z is not None:\n",
    "            state.sizes, state.residuals_pa = sizes, residuals_pa\n",
    "\n",
    "    # quantity to return\n",
    "    return loss[return_]"
   ]
  },
  {
   "cell_type": "code",
   "execution_count": 20,
   "metadata": {
    "hidden": true
   },
   "outputs": [],
   "source": [
    "def pretty_print_loss(loss, digits=2, addloss=None):\n",
    "    \"\"\"Formats loss function values as a human-readable string.\n",
    "    \n",
    "    Parameters:\n",
    "      loss - result of loss function\n",
    "      digits - number of digits after decimal point\n",
    "      addloss - additional summary statistics to print (if contained in loss)\n",
    "                list of 2-tuples (long name, abbreviation)\"\"\"\n",
    "    \n",
    "    if addloss is None: \n",
    "        addloss = [ \n",
    "            ('root_mean_squared_error_per_atom', 'RMSE/a '), \\\n",
    "            ('mean_absolute_error_per_atom'    , 'MAE/a  '), \n",
    "            ('maximum_absolute_error_per_atom' , 'maxAE/a')]\n",
    "    res = \\\n",
    "        'n       = {}\\n'      .format(loss['number_of_samples'])               + \\\n",
    "        'RMSE    = {:0.{}f}\\n'.format(loss['root_mean_squared_error'], digits) + \\\n",
    "        'MAE     = {:0.{}f}\\n'.format(loss['mean_absolute_error'], digits)     + \\\n",
    "        'R^2     = {:0.6f}\\n' .format(loss['correlation_squared'])             + \\\n",
    "        'maxAE   = {:0.{}f}\\n'.format(loss['maximum_absolute_error'], digits)\n",
    "        \n",
    "    for al in addloss: \n",
    "        if al[0] in loss: res += '{} = {:0.{}f}\\n'.format(al[1], loss[al[0]], digits)\n",
    "\n",
    "    return res"
   ]
  },
  {
   "cell_type": "code",
   "execution_count": 21,
   "metadata": {
    "hidden": true
   },
   "outputs": [],
   "source": [
    "def dataset_info(z, r, e, basis=None, verbose=None):\n",
    "    \"\"\"Information about a dataset.\n",
    "    \n",
    "    Returns a dictionary containing information about a dataset.\n",
    "    \n",
    "    Parameters:\n",
    "      z - atomic numbers\n",
    "      r - atom coordinates, in Angstrom\n",
    "      e - energies\n",
    "      basis - basis vectors for periodic systems\n",
    "      verbose - if True, also prints the information\n",
    "    \n",
    "    Information:\n",
    "      elements - elements occurring in dataset\n",
    "      max_elements_per_system - largest number of different elements in a system\n",
    "      max_same_element_per_system - largest number of same-element atoms in a system\n",
    "      max_atoms_per_system - largest number of atoms in a system\n",
    "      min_distance - minimum distance between atoms in a system\n",
    "      max_distance - maximum distance between atoms in a system    \n",
    "    \"\"\"\n",
    "    assert len(z) == len(r) == len(e)\n",
    "    assert basis is None or len(basis) == len(z)\n",
    "\n",
    "    i = {}\n",
    "    \n",
    "    i['number_systems'] = len(z)\n",
    "    \n",
    "    # elements\n",
    "    i['elements'] = np.unique(np.asarray([a for s in z for a in s], dtype=int)) \n",
    "    i['max_elements_per_system'] = max([np.nonzero(np.bincount(s.astype(int)))[0].size for s in z])\n",
    "    i['max_same_element_per_system'] = max([max(np.bincount(s.astype(int))) for s in z]) \n",
    "    \n",
    "    # systems\n",
    "    i['max_atoms_per_system'] = max([len(s) for s in z])\n",
    "    i['systems_per_element'] = np.asarray([np.sum([1 for m in z if el in m]) for el in range(118)], dtype=int)\n",
    "    \n",
    "    # distances\n",
    "    assert len(r) > 0\n",
    "    dists = [qmml.lower_triangular_part(qmml.distance_euclidean(rr), -1) for rr in r]\n",
    "    i['min_distance'] = min([min(d) for d in dists if len(d) > 0])\n",
    "    i['max_distance'] = max([max(d) for d in dists if len(d) > 0])\n",
    "    \n",
    "    # verbose output\n",
    "    if verbose:\n",
    "        if basis is None: print('{} finite systems (molecules)'.format(i['number_systems']))\n",
    "        else: print( '{} periodic systems (materials)'.format(i['number_systems']) )    \n",
    "        print('elements: {} ({})'.format(' '.join([qmml.element_data(el, 'abbreviation') \\\n",
    "            for el in i['elements']]), len(i['elements'])))\n",
    "        print('max #els/system: {};  max #el/system: {};  max #atoms/system: {}'.format( \\\n",
    "            i['max_elements_per_system'], i['max_same_element_per_system'], i['max_atoms_per_system']))\n",
    "        print('min dist: {:3.2f};  max dist: {:3.2f};  1/min dist: {:3.2f};  1/max dist: {:3.2f}'.format( \\\n",
    "            i['min_distance'], i['max_distance'], 1./i['min_distance'], 1./i['max_distance']))\n",
    "        \n",
    "    return i"
   ]
  },
  {
   "cell_type": "code",
   "execution_count": 22,
   "metadata": {
    "hidden": true
   },
   "outputs": [],
   "source": [
    "def import_dataset_xyz(zipfn, datafn, addpts=False, ysplitchrs=';\\[|\\],\\[|,|\\[|\\]| ', n=None):\n",
    "    \"\"\"Loads dataset in (extended) xyz format.\n",
    "    \n",
    "    Parameters:\n",
    "      zipfn - name of compressed archive file\n",
    "      datafn - name of file in extended xyz format\n",
    "      addpts - whether systems contain additional property lines\n",
    "      ysplitchrs - characters at which to split the property line as regular expression\n",
    "      n - number of expected systems\"\"\"\n",
    "    \n",
    "    # load raw data\n",
    "    with zipfile.ZipFile(zipfn, 'r') as zf:\n",
    "        raw = zf.read(datafn).decode('ascii')\n",
    "        \n",
    "    # parse XYZ format\n",
    "    xyzdata = qmml.import_extxyz(raw, additional_properties=addpts)\n",
    "    \n",
    "    # extract information\n",
    "    z = np.asarray([m.an for m in xyzdata], dtype=object)\n",
    "    r = np.asarray([m.xyz for m in xyzdata], dtype=object)\n",
    "    parsef = lambda s: [float(ss) for ss in re.split(ysplitchrs, s) if ss != ''] if isinstance(s, str) else s\n",
    "    y = np.asarray([[parsef(mp) for mp in m.mp] for m in xyzdata])\n",
    "    if len(y.shape) == 3 and y.shape[1] == 1: y = y[:,0,:]\n",
    "    elems = np.unique([el for m in z for el in m]) # element species universe\n",
    "\n",
    "    if n is not None and (n != len(z) or n != len(r) or n != len(y)): \n",
    "        raise RuntimeError('unexpected number of systems')\n",
    "    \n",
    "    return (z, r, y, elems, len(z))"
   ]
  },
  {
   "cell_type": "code",
   "execution_count": 23,
   "metadata": {
    "hidden": true
   },
   "outputs": [],
   "source": [
    "def import_dataset_json(zipfn, datafn, ctrl, n=None):\n",
    "    \"\"\"Imports a dataset in the format of the elpasolite dataset.\n",
    "    \n",
    "    Parameters:\n",
    "      zipfn, datafn - filenames of ZIP container and compressed data file inside\n",
    "      ctrl - list of data blocks to parse\n",
    "      n - expected number of systems\n",
    "      \n",
    "    Returns:\n",
    "      z, r, e, b, sizes, elems, sg, details, n\n",
    "    \"\"\"\n",
    "    \n",
    "    # load raw data from file\n",
    "    with zipfile.ZipFile(zipfn, 'r') as zf:\n",
    "        raw = zf.read(datafn).decode('ascii')\n",
    "    \n",
    "    # split into blocks, one for each crystal\n",
    "    raw = re.split(r'--- \\d+ ---\\n', raw)[1:]  \n",
    "    if n is not None and len(raw) != n: raise RuntimeError('Unexpected number of parsed entries.')\n",
    "        \n",
    "    # parse content via regular expressions\n",
    "    tokens = {\n",
    "        'FE/a'   : r'Formation energy \\(eV/atom\\):\\s*'+ r'(?P<energy>(-?\\d+\\.\\d+))\\s*'         ,\n",
    "        'TE'     : r'Total Energy \\(eV/cell\\):\\s*'    + r'(?P<energy>(-?\\d+\\.\\d+))\\s*'         ,\n",
    "        'FE'     : r'Formation enthalpy \\(eV\\):\\s*'   + r'(?P<energy>(-?\\d+\\.\\d+))\\s*'         ,\n",
    "        'V'      : r'Cell Volume:\\s+'                 + r'\\d+\\.\\d+\\s+'                         ,\n",
    "        'R'      : r'Coordinates:\\s+'                 + r'(?P<coord>((-?\\d+\\.\\d+\\s+){3})+)'    ,\n",
    "        'B'      : r'Cell:\\s+'                        + r'(?P<cell>((-?\\d+\\.\\d+\\s+){3})+)'     ,\n",
    "        'a'      : r'Atoms:\\s+'                       + r'(?P<atoms>([a-zA-Z]{1,3}\\s+)+)'      ,\n",
    "        'sg'     : r'Space group:\\s+'                 + r'(?P<spacegroup>([A-Za-z0-9\\-/]+))\\s+',\n",
    "        'repr'   : r'Representation:\\s+'              + r'(\\d+\\s+\\d+\\s+)+'                     ,\n",
    "        'details': r'Calculation Details:\\s+'         + r'(?P<details>(.+\\n?))'                ,\n",
    "        'end'    : r'(end\\s*)?'\n",
    "    }        \n",
    "    grammar = re.compile(''.join([tokens[c] for c in ctrl]), flags=re.ASCII)\n",
    "    raw = [re.fullmatch(grammar, s) for s in raw]\n",
    "    assert None not in raw\n",
    "\n",
    "    # extract information\n",
    "    z = np.asarray([np.asarray([qmml.element_data(el, 'atomic number') for el in m.group('atoms').split()]) for m in raw])\n",
    "    sizes = np.asarray([len(m) for m in z], dtype=int)  # number of atoms in each structure\n",
    "    elems = np.unique([el for m in z for el in m]) # element species universe\n",
    "    \n",
    "    e = np.asfarray([float(m.group('energy')) for m in raw])\n",
    "    if 'FE/a' in ctrl: e = e * sizes  # convert to energy per cell if necessary\n",
    "\n",
    "    b = np.asarray([np.reshape(np.asarray([float(f) for f in m.group('cell').split()]), (3, 3)) for m in raw])\n",
    "    r = np.asarray([np.reshape(np.asarray([float(f) for f in m.group('coord').split()]), (-1, 3)) for m in raw])\n",
    "    r = np.asarray([[r_[0]*b_[0] + r_[1]*b_[1] + r_[2]*b_[2] for r_ in rr] for (b_,rr) in zip(b,r)]) # Cartesian coordinates\n",
    "    \n",
    "    sg = [m.group('spacegroup') for m in raw] if 'sg' in ctrl else None\n",
    "    details = [m.group('details') for m in raw] if 'details' in ctrl else None  # calculation details\n",
    "    \n",
    "    n = len(z)\n",
    "\n",
    "    return (z, r, e, b, sizes, elems, sg, details, n)"
   ]
  },
  {
   "cell_type": "code",
   "execution_count": 24,
   "metadata": {
    "hidden": true
   },
   "outputs": [],
   "source": [
    "def paramf(aa, bb, cc):\n",
    "    \"\"\"Parameter splitting function dividing parameters into three blocks of sizes a, b, c.\n",
    "    \n",
    "    a, b, c are numbers of parameters.\n",
    "    a can also be a list of numbers of parameters.\n",
    "    \n",
    "    paramf([1,2], 0, 1)(['a', 'b', 'c', 'd']) -> ([('a',), ('b', 'c')], tuple(), ('d',))\"\"\"\n",
    "    def f(a, b, c, *theta):\n",
    "        if qmml.is_sequence(a):\n",
    "            # multiple representation functions\n",
    "            # as we have only need for cases 2 and 3, no need to generalize\n",
    "            assert len(a) == 2 or len(a) == 3\n",
    "            resa = [ tuple(theta[:a[0]]), tuple(theta[a[0]:a[0]+a[1]]) ]\n",
    "            if len(a) == 3: resa.append( tuple(theta[a[0]+a[1]:a[0]+a[1]+a[2]]) )\n",
    "            a = np.sum(a)\n",
    "        else:\n",
    "            # single representation function\n",
    "            resa = tuple(theta[:a])\n",
    "        return ( resa, tuple(theta[a:a+b]), tuple(theta[a+b:a+b+c]) )\n",
    "    return lambda *theta: f(aa, bb, cc, *theta)"
   ]
  },
  {
   "cell_type": "markdown",
   "metadata": {},
   "source": [
    "# Molecular dynamics -- simple energy model (Table II, right)"
   ]
  },
  {
   "cell_type": "markdown",
   "metadata": {},
   "source": [
    "## Data and code"
   ]
  },
  {
   "cell_type": "markdown",
   "metadata": {},
   "source": [
    "Data for this section can be downloaded from the following URL:\n",
    "    \n",
    "http://quantum-machine.org/gdml/"
   ]
  },
  {
   "cell_type": "code",
   "execution_count": 25,
   "metadata": {},
   "outputs": [
    {
     "name": "stdout",
     "output_type": "stream",
     "text": [
      "File ‘datasets/benzene2017_dft.npz’ already there; not retrieving.\n",
      "File ‘datasets/uracil_dft.npz’ already there; not retrieving.\n",
      "File ‘datasets/naphthalene_dft.npz’ already there; not retrieving.\n",
      "File ‘datasets/aspirin_dft.npz’ already there; not retrieving.\n",
      "File ‘datasets/salicylic_dft.npz’ already there; not retrieving.\n",
      "File ‘datasets/malonaldehyde_dft.npz’ already there; not retrieving.\n",
      "File ‘datasets/ethanol_dft.npz’ already there; not retrieving.\n",
      "File ‘datasets/toluene_dft.npz’ already there; not retrieving.\n",
      "MD5 (datasets/benzene2017_dft.npz) = b4337db977aeee3bb400b4a1f0db4210\n",
      "MD5 (datasets/uracil_dft.npz) = 4c1a8b2247ae4bda3b83ee6e3bd4b825\n",
      "MD5 (datasets/naphthalene_dft.npz) = d181a613e91cf4c39125e4e844c3dfa6\n",
      "MD5 (datasets/aspirin_dft.npz) = 6c3bd18c6450b14ee7dc863547b8f935\n",
      "MD5 (datasets/salicylic_dft.npz) = 90ccf04fb59cf561b15bb6f1bb08f6f9\n",
      "MD5 (datasets/malonaldehyde_dft.npz) = 988fd88e46f405e4008b33a304f473bd\n",
      "MD5 (datasets/ethanol_dft.npz) = 0ce72137ee2f96f303254fc4d97dec2a\n",
      "MD5 (datasets/toluene_dft.npz) = 47a15536e0159c2f0e4e4d23895ad02a\n"
     ]
    }
   ],
   "source": [
    "!wget -nc http://quantum-machine.org/gdml/data/npz/benzene2017_dft.npz -O datasets/benzene2017_dft.npz\n",
    "!wget -nc http://quantum-machine.org/gdml/data/npz/uracil_dft.npz -O datasets/uracil_dft.npz\n",
    "!wget -nc http://quantum-machine.org/gdml/data/npz/naphthalene_dft.npz -O datasets/naphthalene_dft.npz\n",
    "!wget -nc http://quantum-machine.org/gdml/data/npz/aspirin_dft.npz -O datasets/aspirin_dft.npz\n",
    "!wget -nc http://quantum-machine.org/gdml/data/npz/salicylic_dft.npz -O datasets/salicylic_dft.npz\n",
    "!wget -nc http://quantum-machine.org/gdml/data/npz/malonaldehyde_dft.npz -O datasets/malonaldehyde_dft.npz\n",
    "!wget -nc http://quantum-machine.org/gdml/data/npz/ethanol_dft.npz -O datasets/ethanol_dft.npz\n",
    "!wget -nc http://quantum-machine.org/gdml/data/npz/toluene_dft.npz -O datasets/toluene_dft.npz\n",
    "!md5 datasets/benzene2017_dft.npz datasets/uracil_dft.npz datasets/naphthalene_dft.npz datasets/aspirin_dft.npz datasets/salicylic_dft.npz datasets/malonaldehyde_dft.npz datasets/ethanol_dft.npz datasets/toluene_dft.npz"
   ]
  },
  {
   "cell_type": "markdown",
   "metadata": {},
   "source": [
    "Number of frames in training and validation sets for all molecules."
   ]
  },
  {
   "cell_type": "code",
   "execution_count": 26,
   "metadata": {},
   "outputs": [],
   "source": [
    "md_num_train, md_num_valid = 10000, 2000"
   ]
  },
  {
   "cell_type": "markdown",
   "metadata": {},
   "source": [
    "The molecular dynamics data is loaded in each experiment separately due to it's large volume of almost 1 GB."
   ]
  },
  {
   "cell_type": "markdown",
   "metadata": {},
   "source": [
    "The following Coulomb matrix variant was used in \n",
    "\n",
    "> Stefan Chmiela, Alexandre Tkatchenko, Huziel E. Sauceda, Igor Poltavsky, Kristof Schütt, Klaus-Robert Müller:\n",
    "> Machine Learning of Accurate Energy-Conserving Molecular Force Fields, Science Advances 3(5): e1603015, 2017.\n",
    "> [DOI](https://doi.org/10.1126/sciadv.1603015)\n",
    "    \n",
    "See the supplement for details."
   ]
  },
  {
   "cell_type": "code",
   "execution_count": 27,
   "metadata": {},
   "outputs": [],
   "source": [
    "def load_qm_17(npz_fn, n):\n",
    "    npz_data = np.load(npz_fn)\n",
    "    r = npz_data['R']\n",
    "    e = npz_data['E'][:, 0]\n",
    "    z = np.repeat(npz_data['z'][None], axis=0, repeats=n)\n",
    "    elems = np.unique(z)\n",
    "\n",
    "    r = np.array(list(r), dtype=object)\n",
    "    z = np.array(list(z), dtype=object)\n",
    "\n",
    "    assert n == r.shape[0] == e.shape[0]\n",
    "    \n",
    "    return z, r, e, elems, n\n",
    "\n",
    "@cached(max_entries=40)\n",
    "def reprfcm(z, r, basis=None, theta=None, flatten=True):\n",
    "    \"\"\"Coulomb matrix variant modified for molecular dynamics data.\n",
    "    \n",
    "    No padding, as number of atoms is constant.\n",
    "    No sorting, as the atom order is always the same.\n",
    "    Diagonal is not used as it is constant.\"\"\"\n",
    "    return qmml.coulomb_matrix(z, r, \\\n",
    "        padding=False, flatten=-1, sort=False, \\\n",
    "        post=lambda cmij, zi, zj, dij, i, j : 1. / dij if i != j else cmij)"
   ]
  },
  {
   "cell_type": "markdown",
   "metadata": {},
   "source": [
    "A variant of MBTR for molecular dynamics data. \n",
    "Each atom is treated as it's own species, effectively enabling per-atom information."
   ]
  },
  {
   "cell_type": "code",
   "execution_count": 180,
   "metadata": {},
   "outputs": [],
   "source": [
    "@cached(max_entries=20)\n",
    "def reprfmd2(z, r, basis=None, theta=None, flatten=True):\n",
    "    \"\"\"MBTR, k=2, inverse distances, no weighting, parametrization for molecular dynamics\"\"\"\n",
    "    assert basis is None\n",
    "    dmin, dmax = dsi['min_distance'], dsi['max_distance']\n",
    "    (dsigma2,) = theta\n",
    "    zz = np.repeat(np.asarray([np.arange(len(z[0]))+1]), len(z), axis=0)\n",
    "    return qmml.many_body_tensor(\n",
    "        zz, r, ( 1.05/dmax-0.05/dmin, (1/dmin-1/dmax)*1.1/30, 30),  # [1/dmax, 1/dmin] plus 5% margin\n",
    "        (2, '1/distance', 'unity', ('normal', (dsigma2,)), 'identity', 'noreversals', 'noreversals'),\n",
    "        basis=basis, acc=0.001, elems=None, flatten=flatten)\n",
    "\n",
    "@cached(max_entries=20)\n",
    "def reprfmd3(z, r, basis=None, theta=None, flatten=True):\n",
    "    \"\"\"MBTR, k=3, angles, no weighting, parametrization for molecular dynamics\"\"\"\n",
    "    assert basis is None\n",
    "    (dsigma2,) = theta\n",
    "    zz = np.repeat(np.asarray([np.arange(len(z[0]))+1]), len(z), axis=0)\n",
    "    return qmml.many_body_tensor(\n",
    "        zz, r, ( -np.pi*0.05, np.pi*1.1/30, 30),  # [0,Pi] plus 5% margin\n",
    "        (3, 'angle', 'unity', ('normal', (dsigma2,)), 'identity', 'noreversals', 'noreversals'),\n",
    "        basis=basis, acc=0.001, elems=None, flatten=flatten)"
   ]
  },
  {
   "cell_type": "markdown",
   "metadata": {},
   "source": [
    "Kernel functions:"
   ]
  },
  {
   "cell_type": "code",
   "execution_count": 134,
   "metadata": {},
   "outputs": [],
   "source": [
    "kernelf_linear    = cached(max_entries=35)(qmml.kernel_linear)\n",
    "kernelf_laplacian = cached(max_entries=35)(qmml.kernel_laplacian)\n",
    "kernelf_gaussian  = cached(max_entries=35)(qmml.kernel_gaussian)"
   ]
  },
  {
   "cell_type": "markdown",
   "metadata": {},
   "source": [
    "## Benzene"
   ]
  },
  {
   "cell_type": "code",
   "execution_count": 278,
   "metadata": {},
   "outputs": [],
   "source": [
    "import sys\n",
    "if '..' not in sys.path:\n",
    "    sys.path.insert(0, '..')\n",
    "\n",
    "from importlib import reload\n",
    "from mbtr_md import mbtr_python_torch\n",
    "reload(mbtr_python_torch)\n",
    "\n",
    "mbtr_python = mbtr_python_torch.mbtr_python\n",
    "DistFuncGaussian = mbtr_python_torch.DistFuncGaussian\n",
    "WeightFunc3BodyUnity = mbtr_python_torch.WeightFunc3BodyUnity\n",
    "GeomFunc3BodyAngle = mbtr_python_torch.GeomFunc3BodyAngle"
   ]
  },
  {
   "cell_type": "code",
   "execution_count": 279,
   "metadata": {},
   "outputs": [
    {
     "data": {
      "text/plain": [
       "tensor([[[ 1.1785, -2.3570,  1.1785],\n",
       "         [-1.4947,  2.4145, -1.4947],\n",
       "         [ 0.3162, -0.0575,  0.3162]]])"
      ]
     },
     "execution_count": 279,
     "metadata": {},
     "output_type": "execute_result"
    }
   ],
   "source": [
    "import torch\n",
    "\n",
    "angle = GeomFunc3BodyAngle()\n",
    "angle.div(torch.tensor([[\n",
    "    [0.0, 0.5, 1.0],\n",
    "    [0.2, 0.7, 1.2],\n",
    "    [0.4, 2.9, 1.4],\n",
    "]]), mode=0)\n",
    "angle.div(torch.tensor([[\n",
    "    [0.0, 0.5, 1.0],\n",
    "    [0.2, 0.7, 1.2],\n",
    "    [0.4, 2.9, 1.4],\n",
    "]]), mode=1)"
   ]
  },
  {
   "cell_type": "code",
   "execution_count": 301,
   "metadata": {
    "scrolled": true
   },
   "outputs": [
    {
     "data": {
      "text/plain": [
       "((1, 12, 12, 12, 31), (1, 12, 12, 12, 31, 12, 3), (1, 12, 12, 12, 31))"
      ]
     },
     "execution_count": 301,
     "metadata": {},
     "output_type": "execute_result"
    }
   ],
   "source": [
    "zz = np.repeat(np.asarray([np.arange(len(z[0]))+1]), len(z), axis=0)\n",
    "\n",
    "r0 = r[:1].astype(float).copy()\n",
    "rep, rep_div = mbtr_python(zz[0], r0, grid=(-0.05*np.pi, 1.05*np.pi, 31), order=3,\n",
    "           geomf=GeomFunc3BodyAngle(), weightf=WeightFunc3BodyUnity(), distf=DistFuncGaussian(2**-4.5))\n",
    "\n",
    "dr = 3e-7\n",
    "r0[0, 1, 0] += dr\n",
    "rep_dr, rep_div_dr = mbtr_python(zz[0], r0, grid=(-0.05*np.pi, 1.05*np.pi, 31), order=3,\n",
    "           geomf=GeomFunc3BodyAngle(), weightf=WeightFunc3BodyUnity(), distf=DistFuncGaussian(2**-4.5))\n",
    "\n",
    "div_rep_dr = (rep_dr - rep) / dr\n",
    "rep.shape, rep_div.shape, div_rep_dr.shape"
   ]
  },
  {
   "cell_type": "code",
   "execution_count": 302,
   "metadata": {},
   "outputs": [
    {
     "data": {
      "text/plain": [
       "(array([ 1.02829129e+00, -6.22706965e-01, -4.08320330e-01, -1.81356411e-04,\n",
       "        -1.81638593e-04, -4.08494501e-01, -6.21809864e-01,  1.02757397e+00,\n",
       "         2.91202451e-03,  1.36927506e-08, -1.66533454e-08, -1.25825276e-08,\n",
       "         1.18423789e-08,  2.64835301e+00, -1.60304796e+00, -1.05234579e+00,\n",
       "        -4.67723082e-04,  2.64850344e+00, -1.60339956e+00, -1.05214710e+00,\n",
       "        -4.67519357e-04,  7.40604792e-01, -4.48287178e-01, -2.94286530e-01,\n",
       "        -1.30798150e-04,  7.41089712e-01, -4.48841424e-01, -2.94220582e-01,\n",
       "        -1.30653821e-04, -6.49689006e-04, -1.46111990e+00, -2.22413009e+00,\n",
       "         3.67548372e+00,  1.04159329e-02,  2.87869984e-01, -1.74326586e-01,\n",
       "        -1.14309342e-01, -5.07708690e-05,  2.64835301e+00, -1.60304796e+00,\n",
       "        -1.05234579e+00, -4.67723082e-04,  7.40604792e-01, -4.48287178e-01,\n",
       "        -2.94286530e-01, -1.30798150e-04, -6.49689006e-04, -1.46111990e+00,\n",
       "        -2.22413009e+00,  3.67548372e+00,  1.04159329e-02, -5.98484410e-04,\n",
       "        -1.34655168e+00, -2.05121836e+00,  3.38876090e+00,  9.60760212e-03,\n",
       "         1.02829129e+00, -6.22706965e-01, -4.08320330e-01, -1.81356411e-04,\n",
       "         1.36927506e-08, -1.66533454e-08,  7.41089712e-01, -4.48841424e-01,\n",
       "        -2.94220582e-01, -1.30653821e-04,  2.87869984e-01, -1.74326586e-01,\n",
       "        -1.14309342e-01, -5.07708690e-05, -5.98484410e-04, -1.34655168e+00,\n",
       "        -2.05121836e+00,  3.38876090e+00,  9.60760212e-03, -1.81638593e-04,\n",
       "        -4.08494501e-01, -6.21809864e-01,  1.02757397e+00,  2.91202451e-03,\n",
       "         2.64850344e+00, -1.60339956e+00, -1.05214710e+00, -4.67519357e-04,\n",
       "        -1.25825276e-08,  1.18423789e-08]),\n",
       " array([ 2.41196401e-02, -1.46062234e-02, -9.57759255e-03, -4.25391128e-06,\n",
       "        -1.52459367e-05, -3.42871940e-02, -5.21917906e-02,  8.62498083e-02,\n",
       "         2.44421460e-04,  0.00000000e+00,  0.00000000e+00, -9.96981929e-16,\n",
       "         9.52213963e-16,  1.60175818e-01, -9.69541547e-02, -6.36474943e-02,\n",
       "        -2.82887218e-05,  1.25193991e-01, -7.57920289e-02, -4.97348911e-02,\n",
       "        -2.20996866e-05,  4.47761968e-02, -2.71029570e-02, -1.77922783e-02,\n",
       "        -7.90794382e-06,  9.78518727e-03, -5.92640002e-03, -3.88482895e-03,\n",
       "        -1.72512627e-06, -5.45385843e-05, -1.22653994e-01, -1.86703279e-01,\n",
       "         3.08537451e-01,  8.74357588e-04,  6.74250184e-03, -4.08308281e-03,\n",
       "        -2.67735899e-03, -1.18915558e-06,  1.60175818e-01, -9.69541547e-02,\n",
       "        -6.36474943e-02, -2.82887218e-05,  4.47761968e-02, -2.71029570e-02,\n",
       "        -1.77922783e-02, -7.90794382e-06, -5.45385843e-05, -1.22653994e-01,\n",
       "        -1.86703279e-01,  3.08537451e-01,  8.74357588e-04, -3.61966656e-05,\n",
       "        -8.14397726e-02, -1.24057112e-01,  2.04952015e-01,  5.81064035e-04,\n",
       "         2.41196401e-02, -1.46062234e-02, -9.57759255e-03, -4.25391128e-06,\n",
       "         0.00000000e+00,  0.00000000e+00,  9.78518727e-03, -5.92640002e-03,\n",
       "        -3.88482895e-03, -1.72512627e-06,  6.74250184e-03, -4.08308281e-03,\n",
       "        -2.67735899e-03, -1.18915558e-06, -3.61966656e-05, -8.14397726e-02,\n",
       "        -1.24057112e-01,  2.04952015e-01,  5.81064035e-04, -1.52459367e-05,\n",
       "        -3.42871940e-02, -5.21917906e-02,  8.62498083e-02,  2.44421460e-04,\n",
       "         1.25193991e-01, -7.57920289e-02, -4.97348911e-02, -2.20996866e-05,\n",
       "        -9.96981929e-16,  9.52213963e-16]))"
      ]
     },
     "execution_count": 302,
     "metadata": {},
     "output_type": "execute_result"
    }
   ],
   "source": [
    "divs = np.where(~np.isclose(rep_div[:, :, :, :, :, 1, 0], div_rep_dr, rtol=1e-3))\n",
    "div_rep_dr[divs], rep_div[:, :, :, :, :, 1, 0][divs]"
   ]
  },
  {
   "cell_type": "code",
   "execution_count": 249,
   "metadata": {
    "scrolled": true
   },
   "outputs": [
    {
     "data": {
      "text/plain": [
       "11.034957455580141"
      ]
     },
     "execution_count": 249,
     "metadata": {},
     "output_type": "execute_result"
    }
   ],
   "source": [
    "div_rep_dr.max()"
   ]
  },
  {
   "cell_type": "code",
   "execution_count": 181,
   "metadata": {
    "scrolled": true
   },
   "outputs": [
    {
     "data": {
      "text/plain": [
       "(1, 936, 30)"
      ]
     },
     "execution_count": 181,
     "metadata": {},
     "output_type": "execute_result"
    }
   ],
   "source": [
    "rep1 = reprfmd3(z[:1], r[:1], theta=(2**-4.5,), flatten=False)\n",
    "# rep1 = rep1.reshape((1, 12, 12, 12, 30))\n",
    "rep1.shape"
   ]
  },
  {
   "cell_type": "code",
   "execution_count": 183,
   "metadata": {
    "scrolled": true
   },
   "outputs": [
    {
     "data": {
      "text/plain": [
       "1728"
      ]
     },
     "execution_count": 183,
     "metadata": {},
     "output_type": "execute_result"
    }
   ],
   "source": [
    "12*12*12"
   ]
  },
  {
   "cell_type": "code",
   "execution_count": 184,
   "metadata": {},
   "outputs": [
    {
     "data": {
      "text/plain": [
       "864.0"
      ]
     },
     "execution_count": 184,
     "metadata": {},
     "output_type": "execute_result"
    }
   ],
   "source": [
    "1728/2"
   ]
  },
  {
   "cell_type": "code",
   "execution_count": 182,
   "metadata": {},
   "outputs": [
    {
     "data": {
      "text/plain": [
       "220"
      ]
     },
     "execution_count": 182,
     "metadata": {},
     "output_type": "execute_result"
    }
   ],
   "source": [
    "c = 0\n",
    "for i in range(12):\n",
    "    for j in range(i+1, 12):\n",
    "        for z in range(j+1, 12):\n",
    "            c += 1\n",
    "c"
   ]
  },
  {
   "cell_type": "code",
   "execution_count": 179,
   "metadata": {},
   "outputs": [
    {
     "data": {
      "text/plain": [
       "<matplotlib.legend.Legend at 0x28e7f2430>"
      ]
     },
     "execution_count": 179,
     "metadata": {},
     "output_type": "execute_result"
    },
    {
     "data": {
      "image/png": "[encoded data removed]",
      "text/plain": [
       "<Figure size 432x288 with 1 Axes>"
      ]
     },
     "metadata": {
      "needs_background": "light"
     },
     "output_type": "display_data"
    }
   ],
   "source": [
    "plt.plot(rep[0, 3, 10, 0], label='REP')\n",
    "plt.plot(rep1[0, 3, 10, 0])\n",
    "plt.legend()"
   ]
  },
  {
   "cell_type": "code",
   "execution_count": 122,
   "metadata": {
    "scrolled": true
   },
   "outputs": [
    {
     "data": {
      "text/plain": [
       "(1, 12, 12, 12, 30)"
      ]
     },
     "execution_count": 122,
     "metadata": {},
     "output_type": "execute_result"
    }
   ],
   "source": []
  },
  {
   "cell_type": "code",
   "execution_count": null,
   "metadata": {},
   "outputs": [],
   "source": []
  },
  {
   "cell_type": "code",
   "execution_count": null,
   "metadata": {},
   "outputs": [],
   "source": []
  },
  {
   "cell_type": "markdown",
   "metadata": {},
   "source": [
    "### Data"
   ]
  },
  {
   "cell_type": "markdown",
   "metadata": {},
   "source": [
    "Clear all caches."
   ]
  },
  {
   "cell_type": "code",
   "execution_count": 32,
   "metadata": {},
   "outputs": [],
   "source": [
    "reprfcm.clear_cache()\n",
    "reprfmd2.clear_cache(); reprfmd3.clear_cache()\n",
    "reprf2.clear_cache(); reprf3.clear_cache()\n",
    "kernelf_linear.clear_cache(); kernelf_laplacian.clear_cache(); kernelf_gaussian.clear_cache()"
   ]
  },
  {
   "cell_type": "markdown",
   "metadata": {},
   "source": [
    "Load the molecular dynamics trajectory."
   ]
  },
  {
   "cell_type": "code",
   "execution_count": 189,
   "metadata": {
    "scrolled": true
   },
   "outputs": [
    {
     "name": "stdout",
     "output_type": "stream",
     "text": [
      "CPU times: user 1.02 s, sys: 189 ms, total: 1.21 s\n",
      "Wall time: 1.37 s\n"
     ]
    }
   ],
   "source": [
    "%%time\n",
    "z, r, e, elems, n = load_qm_17('datasets/benzene2017_dft.npz', n=627983)"
   ]
  },
  {
   "cell_type": "markdown",
   "metadata": {},
   "source": [
    "Split data into training and validation set. Note the use of stratification in the outer split to reduce variance. Another approach would have been to use another sampling strategy, for example using a greedy heuristic to choose diverse input structures."
   ]
  },
  {
   "cell_type": "code",
   "execution_count": 34,
   "metadata": {},
   "outputs": [],
   "source": [
    "np.random.seed(1)\n",
    "\n",
    "(indtrain1, indvalid1) = setup_train_valid(range(n), md_num_train, md_num_valid, e)\n",
    "(indtrain2, indvalid2) = setup_train_valid(indtrain1, md_num_train-500, 500, e[indtrain1])"
   ]
  },
  {
   "cell_type": "markdown",
   "metadata": {},
   "source": [
    "Determine dataset properties."
   ]
  },
  {
   "cell_type": "code",
   "execution_count": 35,
   "metadata": {},
   "outputs": [
    {
     "name": "stdout",
     "output_type": "stream",
     "text": [
      "627983 finite systems (molecules)\n",
      "elements: H C (2)\n",
      "max #els/system: 2;  max #el/system: 6;  max #atoms/system: 12\n",
      "min dist: 0.97;  max dist: 5.28;  1/min dist: 1.03;  1/max dist: 0.19\n",
      "CPU times: user 2min 22s, sys: 835 ms, total: 2min 23s\n",
      "Wall time: 2min 23s\n"
     ]
    }
   ],
   "source": [
    "%%time\n",
    "dsi = dataset_info(z, r, e, basis=None, verbose=True)"
   ]
  },
  {
   "cell_type": "markdown",
   "metadata": {},
   "source": [
    "### MBTR (MD variant)"
   ]
  },
  {
   "cell_type": "markdown",
   "metadata": {
    "heading_collapsed": true
   },
   "source": [
    "#### Linear kernel"
   ]
  },
  {
   "cell_type": "code",
   "execution_count": 68,
   "metadata": {
    "hidden": true
   },
   "outputs": [
    {
     "name": "stdout",
     "output_type": "stream",
     "text": [
      "AdaptiveGridSearch\n",
      "\n",
      "#vars = 3, #steps = 18, #evals = 23, done = True\n",
      "best solution: f(-4.5, -2.0, -17.0) = 0.0469\n",
      "var = 1, update = False\n",
      "converged vars: T  T  T , directions: -1 +1 +1\n",
      "\n",
      "n       = 2000\n",
      "RMSE    = 0.046\n",
      "MAE     = 0.034\n",
      "R^2     = 0.999623\n",
      "maxAE   = 0.340\n",
      "RMSE/a  = 0.004\n",
      "MAE/a   = 0.003\n",
      "maxAE/a = 0.028\n",
      "\n",
      "CPU times: user 43min 14s, sys: 1min 3s, total: 44min 17s\n",
      "Wall time: 8min 13s\n"
     ]
    }
   ],
   "source": [
    "%%time\n",
    "\n",
    "np.random.seed(2)\n",
    "\n",
    "f = EvaluateModelPerformance(z, r, e, indtrain2, indvalid2, (reprfmd2, reprfmd3), \\\n",
    "    kernelf_linear, lossf, paramf=paramf([1,1],0,1), basis=None, centering=True, maxcache=False)\n",
    "\n",
    "ags = AdaptiveGridSearch(\n",
    "    f,\n",
    "    [   # initial value, priority, step size, (min,max), direction, base\n",
    "        (- 5.0, 2, 0.5, -20, +20,  0, 2),  # broadening sigma of MBTR2\n",
    "        (- 3.0, 1, 0.5, -20, +20,  0, 2),  # broadening sigma of MBTR3\n",
    "        (-12.0, 3, 1.0, -20, +20, -1, 2)   # regularization strength lambda\n",
    "    ]\n",
    "    , resolution=0.0001\n",
    ")\n",
    "\n",
    "print(ags)\n",
    "while ags:\n",
    "    ags.step()\n",
    "    IPython.display.clear_output(wait=True)\n",
    "    print(ags)\n",
    "\n",
    "f.reset(indtrain=indtrain1, indvalid=indvalid1)\n",
    "f(*(ags._vars[:,6]**ags.best_v));\n",
    "\n",
    "print(pretty_print_loss(f.loss.loss, digits=3))"
   ]
  },
  {
   "cell_type": "markdown",
   "metadata": {},
   "source": [
    "#### Gaussian kernel"
   ]
  },
  {
   "cell_type": "code",
   "execution_count": 36,
   "metadata": {},
   "outputs": [
    {
     "name": "stdout",
     "output_type": "stream",
     "text": [
      "n       = 2000\n",
      "RMSE    = 0.036\n",
      "MAE     = 0.026\n",
      "R^2     = 0.999769\n",
      "maxAE   = 0.198\n",
      "RMSE/a  = 0.003\n",
      "MAE/a   = 0.002\n",
      "maxAE/a = 0.016\n",
      "\n",
      "CPU times: user 1min 23s, sys: 13.7 s, total: 1min 36s\n",
      "Wall time: 52.4 s\n"
     ]
    }
   ],
   "source": [
    "%%time\n",
    "\n",
    "np.random.seed(3)\n",
    "\n",
    "f = EvaluateModelPerformance(z, r, e-np.mean(e[indtrain2]), indtrain2, indvalid2, (reprfmd2, reprfmd3), \\\n",
    "    kernelf_gaussian, lossf, paramf=paramf([1,1],1,1), basis=None, centering=False, maxcache=False)\n",
    "\n",
    "ags = AdaptiveGridSearch(\n",
    "    f,\n",
    "    [   # initial value, priority, step size, (min,max), direction, base\n",
    "        (- 4.5, 2, 0.5, -20, +20,  0, 2),  # broadening sigma of MBTR2\n",
    "        (- 1.5, 2, 0.5, -20, +20,  0, 2),  # broadening sigma of MBTR3\n",
    "        (+ 3.5, 3, 0.5, -20, +20,  0, 2),  # kernel sigma\n",
    "        (-20.0, 4, 1.0, -20, +20, -1, 2)   # regularization strength lambda\n",
    "    ]\n",
    "    , resolution=0.0001\n",
    ")\n",
    "\n",
    "f.reset(indtrain=indtrain1, indvalid=indvalid1)\n",
    "f(2**-4.0, 2**-1.5, 2**2.5, 2**-20.0)\n",
    "\n",
    "print(pretty_print_loss(f.loss.loss, digits=3))"
   ]
  },
  {
   "cell_type": "code",
   "execution_count": 40,
   "metadata": {},
   "outputs": [
    {
     "data": {
      "text/plain": [
       "{'f': <function qmmlpack.kernels_gaussian.kernel_gaussian(x, z=None, theta=None, diagonal=False, distance=False)>,\n",
       " 'max_entries': 35,\n",
       " 'cache': {b'\\x14b\\xfbJ)\\x03\\xc5\\xa6\\xe8\\x19\\x8d\\x0b\\xc3I\\x87<': [0,\n",
       "   array([[1.        , 0.99893582, 0.9989564 , ..., 0.9943778 , 0.99227957, 0.99385754],\n",
       "          [0.99893582, 1.        , 0.99784575, ..., 0.99463427, 0.99229102, 0.99481257],\n",
       "          [0.9989564 , 0.99784575, 1.        , ..., 0.99501046, 0.99421041, 0.99412325],\n",
       "          ...,\n",
       "          [0.9943778 , 0.99463427, 0.99501046, ..., 1.        , 0.98937236, 0.99304656],\n",
       "          [0.99227957, 0.99229102, 0.99421041, ..., 0.98937236, 1.        , 0.98959276],\n",
       "          [0.99385754, 0.99481257, 0.99412325, ..., 0.99304656, 0.98959276, 1.        ]])],\n",
       "  b'5\\xb9\\x10\\x9a\\xd4\\x00\\x92 \\x12\\xb0ST/*4\\x06': [1,\n",
       "   array([[0.99789802, 0.99820997, 0.99848039, ..., 0.99476154, 0.99327181, 0.99537457],\n",
       "          [0.99871053, 0.99866122, 0.99846683, ..., 0.99531825, 0.99398631, 0.99351378],\n",
       "          [0.99812481, 0.99838778, 0.99850808, ..., 0.99457008, 0.99547376, 0.99614959],\n",
       "          ...,\n",
       "          [0.99430202, 0.99490833, 0.99313551, ..., 0.99167937, 0.99309516, 0.98927024],\n",
       "          [0.99443017, 0.99486304, 0.99232317, ..., 0.9922441 , 0.99859554, 0.98694997],\n",
       "          [0.99483543, 0.9953054 , 0.99588991, ..., 0.9907269 , 0.99138233, 0.99133035]])],\n",
       "  b'd\\xb6\\xe87c\\x10\\xdai\\x9a\\x0e\\xe0$rM\\xfar': [2,\n",
       "   array([[1.        , 0.99710651, 0.99706022, ..., 0.98310807, 0.97674883, 0.98217919],\n",
       "          [0.99710651, 1.        , 0.99326828, ..., 0.98402   , 0.97649043, 0.98508715],\n",
       "          [0.99706022, 0.99326828, 1.        , ..., 0.98524246, 0.98335021, 0.98290273],\n",
       "          ...,\n",
       "          [0.98310807, 0.98402   , 0.98524246, ..., 1.        , 0.96918704, 0.98008836],\n",
       "          [0.97674883, 0.97649043, 0.98335021, ..., 0.96918704, 1.        , 0.9704866 ],\n",
       "          [0.98217919, 0.98508715, 0.98290273, ..., 0.98008836, 0.9704866 , 1.        ]])],\n",
       "  b'\\x9bW\\xa0m\\xe1[\\x82\\xfb\\xcd\\xabx\\xd3?t\\xcc\\xf1': [3,\n",
       "   array([[0.99761587, 0.99222379, 0.99283781, ..., 0.98630716, 0.98741863, 0.98685463],\n",
       "          [0.99710112, 0.99451198, 0.99204842, ..., 0.98598643, 0.98693496, 0.98364214],\n",
       "          [0.99451334, 0.99417675, 0.99688697, ..., 0.98629876, 0.98255215, 0.98466127],\n",
       "          ...,\n",
       "          [0.98151416, 0.98658123, 0.98615249, ..., 0.97995471, 0.96461414, 0.96726689],\n",
       "          [0.97278719, 0.98355619, 0.98558217, ..., 0.97076267, 0.95770203, 0.95981071],\n",
       "          [0.97900327, 0.98670199, 0.98490475, ..., 0.97164255, 0.9786637 , 0.97287518]])]},\n",
       " 'lruc': 4,\n",
       " 'hashf': <md5 HASH object @ 0x12fef01b0>,\n",
       " '_intbuf': array([-3137888585962745329]),\n",
       " 'hits': 0,\n",
       " 'misses': 4,\n",
       " 'total_hits': 0,\n",
       " 'total_misses': 4}"
      ]
     },
     "execution_count": 40,
     "metadata": {},
     "output_type": "execute_result"
    }
   ],
   "source": [
    "f.kernelf.__dict__"
   ]
  },
  {
   "cell_type": "code",
   "execution_count": null,
   "metadata": {},
   "outputs": [],
   "source": []
  }
 ],
 "metadata": {
  "anaconda-cloud": {},
  "kernelspec": {
   "display_name": "Python 3 (ipykernel)",
   "language": "python",
   "name": "python3"
  },
  "language_info": {
   "codemirror_mode": {
    "name": "ipython",
    "version": 3
   },
   "file_extension": ".py",
   "mimetype": "text/x-python",
   "name": "python",
   "nbconvert_exporter": "python",
   "pygments_lexer": "ipython3",
   "version": "3.8.11"
  },
  "toc": {
   "base_numbering": 1,
   "nav_menu": {},
   "number_sections": true,
   "sideBar": true,
   "skip_h1_title": false,
   "title_cell": "Table of Contents",
   "title_sidebar": "Contents",
   "toc_cell": false,
   "toc_position": {},
   "toc_section_display": true,
   "toc_window_display": false
  }
 },
 "nbformat": 4,
 "nbformat_minor": 1
}
